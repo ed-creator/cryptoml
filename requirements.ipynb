{
 "cells": [
  {
   "cell_type": "code",
   "execution_count": 2,
   "metadata": {},
   "outputs": [
    {
     "name": "stdout",
     "output_type": "stream",
     "text": [
      "Requirement already satisfied: ipynb in /usr/local/lib/python3.5/dist-packages\n",
      "Requirement already satisfied: plotly in /usr/local/lib/python3.5/dist-packages\n",
      "Requirement already satisfied: pytz in /usr/lib/python3/dist-packages (from plotly)\n",
      "Requirement already satisfied: decorator>=4.0.6 in /usr/local/lib/python3.5/dist-packages (from plotly)\n",
      "Requirement already satisfied: requests in /usr/lib/python3/dist-packages (from plotly)\n",
      "Requirement already satisfied: retrying>=1.3.3 in /usr/local/lib/python3.5/dist-packages (from plotly)\n",
      "Requirement already satisfied: six in /usr/local/lib/python3.5/dist-packages (from plotly)\n",
      "Requirement already satisfied: nbformat>=4.2 in /usr/local/lib/python3.5/dist-packages (from plotly)\n",
      "Requirement already satisfied: jupyter-core in /usr/local/lib/python3.5/dist-packages (from nbformat>=4.2->plotly)\n",
      "Requirement already satisfied: ipython-genutils in /usr/local/lib/python3.5/dist-packages (from nbformat>=4.2->plotly)\n",
      "Requirement already satisfied: jsonschema!=2.5.0,>=2.4 in /usr/local/lib/python3.5/dist-packages (from nbformat>=4.2->plotly)\n",
      "Requirement already satisfied: traitlets>=4.1 in /usr/local/lib/python3.5/dist-packages (from nbformat>=4.2->plotly)\n",
      "Requirement already satisfied: seaborn in /usr/local/lib/python3.5/dist-packages\n",
      "Requirement already satisfied: pandas>=0.15.2 in /usr/lib/python3/dist-packages (from seaborn)\n",
      "Requirement already satisfied: numpy>=1.9.3 in /usr/local/lib/python3.5/dist-packages (from seaborn)\n",
      "Requirement already satisfied: matplotlib>=1.4.3 in /usr/lib/python3/dist-packages (from seaborn)\n",
      "Requirement already satisfied: scipy>=0.14.0 in /usr/lib/python3/dist-packages (from seaborn)\n",
      "Collecting xgboost\n",
      "  Downloading https://files.pythonhosted.org/packages/06/7a/442f7da21792566012e5c7e5a7dffa44c1b6cc05c0c27856bbc8a7718b28/xgboost-0.72.1-py2.py3-none-manylinux1_x86_64.whl (18.4MB)\n",
      "\u001b[K    100% |████████████████████████████████| 18.4MB 75kB/s \n",
      "\u001b[?25hRequirement already satisfied: numpy in /usr/local/lib/python3.5/dist-packages (from xgboost)\n",
      "Requirement already satisfied: scipy in /usr/lib/python3/dist-packages (from xgboost)\n",
      "Installing collected packages: xgboost\n",
      "Successfully installed xgboost-0.72.1\n"
     ]
    }
   ],
   "source": [
    "#installed within ipynb, just run the cell\n",
    "import sys\n",
    "!{sys.executable} -m pip install ipynb\n",
    "!{sys.executable} -m pip install plotly\n",
    "!{sys.executable} -m pip install seaborn\n",
    "!{sys.executable} -m pip install xgboost\n"
   ]
  },
  {
   "cell_type": "code",
   "execution_count": null,
   "metadata": {},
   "outputs": [],
   "source": []
  }
 ],
 "metadata": {
  "kernelspec": {
   "display_name": "Python 3",
   "language": "python",
   "name": "python3"
  },
  "language_info": {
   "codemirror_mode": {
    "name": "ipython",
    "version": 3
   },
   "file_extension": ".py",
   "mimetype": "text/x-python",
   "name": "python",
   "nbconvert_exporter": "python",
   "pygments_lexer": "ipython3",
   "version": "3.5.3"
  }
 },
 "nbformat": 4,
 "nbformat_minor": 2
}
