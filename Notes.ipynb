{
 "cells": [
  {
   "cell_type": "markdown",
   "metadata": {},
   "source": [
    "## Data Description"
   ]
  },
  {
   "cell_type": "markdown",
   "metadata": {},
   "source": [
    "date: Refers to 00:00 UTC on that day \n",
    "\n",
    "txVolume(USD): On Chain Transaction value.Total value of outputs on the blockchain, on a given day. This is an answer to the question “approximately how much value, denominated in USD, circulates on the Bitcoin blockchain a day?” This is for the 24hrs immediately prior to the given date. \n",
    "\n",
    "txCount: Refers to the number of transactions happening on the public blockchain a day. This is for the 24hrs immediately prior to the given date. \n",
    "\n",
    "marketcap(USD): Unit price multiplied by the number of units in circulation. Refers to 00:00 UTC on that date given \n",
    "\n",
    "price(USD): Price is price. Sourced from CoinMarketCap. It’s the opening price.\n",
    "\n",
    "exchangeVolume(USD): the dollar value of the volume at exchanges like GDAX and Bitfinex. Data from Coinmarketcap, who have a bit of a conflicted history with the figure, having deleted and re-added Korean exchange figures. It doesn’t include data on OTC exchanges, which is a meaningful portion of all global exchange. Remember that 0-fee exchange volume should be taken with a grain of salt.\n",
    "\n",
    "activeAddresses: \"the number of unique sending and receiving addresses participating in transactions on the given day\". \n",
    "\n",
    "medianTxValue(USD): Median Tx Value of On-chain transactions."
   ]
  },
  {
   "cell_type": "markdown",
   "metadata": {},
   "source": [
    "## Addition Columns"
   ]
  },
  {
   "cell_type": "markdown",
   "metadata": {},
   "source": [
    "price_inrcease: Nominal Price Increase\n",
    "    \n",
    "price_percentage_increase: % increase/decrease from the previous day\n",
    "\n",
    "eth_price_increase ETH Nominal Price Increase\n",
    "\n",
    "eth_price_percentage_increase: ETH % increase/decrease from the previous day\n",
    "\n",
    "performance_vs_eth: 0 or 1. 1 == a higher % increase than ETH, 0 = a lower % increase than ETH. This is the label. \n",
    "\n",
    "\n",
    "\n"
   ]
  }
 ],
 "metadata": {
  "kernelspec": {
   "display_name": "Python 3",
   "language": "python",
   "name": "python3"
  },
  "language_info": {
   "codemirror_mode": {
    "name": "ipython",
    "version": 3
   },
   "file_extension": ".py",
   "mimetype": "text/x-python",
   "name": "python",
   "nbconvert_exporter": "python",
   "pygments_lexer": "ipython3",
   "version": "3.5.3"
  }
 },
 "nbformat": 4,
 "nbformat_minor": 2
}
