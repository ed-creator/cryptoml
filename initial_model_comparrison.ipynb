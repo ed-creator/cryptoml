{
 "cells": [
  {
   "cell_type": "code",
   "execution_count": 90,
   "metadata": {},
   "outputs": [],
   "source": [
    "import ipynb.fs.defs.preprocessing as preprocessing\n",
    "\n",
    "import numpy as np\n",
    "\n",
    "from pandas import DataFrame, concat\n",
    "\n",
    "\n",
    "from sklearn.model_selection import train_test_split\n",
    "\n",
    "from sklearn.metrics import accuracy_score\n",
    "\n",
    "from xgboost import XGBClassifier\n",
    "import xgboost as xgb\n",
    "\n",
    "import warnings\n",
    "warnings.filterwarnings('ignore')\n"
   ]
  },
  {
   "cell_type": "code",
   "execution_count": 91,
   "metadata": {},
   "outputs": [
    {
     "name": "stdout",
     "output_type": "stream",
     "text": [
      "sliced eth data shape (312, 16)\n",
      "sliced ae data shape (312, 8)\n",
      "sliced eth data shape (411, 16)\n",
      "sliced bat data shape (411, 8)\n",
      "sliced eth data shape (369, 16)\n",
      "sliced fun data shape (369, 8)\n",
      "sliced eth data shape (441, 16)\n",
      "sliced gno data shape (441, 8)\n",
      "sliced eth data shape (595, 16)\n",
      "sliced gnt data shape (595, 8)\n",
      "sliced eth data shape (119, 16)\n",
      "sliced loom data shape (119, 8)\n",
      "sliced eth data shape (367, 16)\n",
      "sliced omg data shape (367, 8)\n",
      "sliced eth data shape (346, 16)\n",
      "sliced rep data shape (346, 8)\n",
      "sliced eth data shape (292, 16)\n",
      "sliced salt data shape (292, 8)\n",
      "sliced eth data shape (384, 16)\n",
      "sliced snt data shape (384, 8)\n",
      "sliced eth data shape (336, 16)\n",
      "sliced zrx data shape (336, 8)\n",
      "ae NaN Cells: 0\n",
      "bat NaN Cells: 0\n",
      "fun NaN Cells: 0\n",
      "gno NaN Cells: 0\n",
      "gnt NaN Cells: 0\n",
      "loom NaN Cells: 0\n",
      "omg NaN Cells: 0\n",
      "rep NaN Cells: 0\n",
      "salt NaN Cells: 0\n",
      "snt NaN Cells: 0\n",
      "zrx NaN Cells: 0\n",
      "ae outperformed ETH on 145 / 312 days\n",
      "46.47435897435898 % of the time\n",
      "bat outperformed ETH on 190 / 411 days\n",
      "46.228710462287104 % of the time\n",
      "fun outperformed ETH on 160 / 368 days\n",
      "43.47826086956522 % of the time\n",
      "gno outperformed ETH on 183 / 441 days\n",
      "41.49659863945578 % of the time\n",
      "gnt outperformed ETH on 257 / 595 days\n",
      "43.19327731092437 % of the time\n",
      "loom outperformed ETH on 53 / 119 days\n",
      "44.537815126050425 % of the time\n",
      "omg outperformed ETH on 161 / 367 days\n",
      "43.869209809264305 % of the time\n",
      "rep outperformed ETH on 155 / 346 days\n",
      "44.797687861271676 % of the time\n",
      "salt outperformed ETH on 120 / 292 days\n",
      "41.0958904109589 % of the time\n",
      "snt outperformed ETH on 158 / 384 days\n",
      "41.14583333333333 % of the time\n",
      "zrx outperformed ETH on 152 / 336 days\n",
      "45.23809523809524 % of the time\n",
      "sliced eth data shape (312, 16)\n",
      "sliced ae data shape (312, 8)\n",
      "sliced eth data shape (411, 16)\n",
      "sliced bat data shape (411, 8)\n",
      "sliced eth data shape (369, 16)\n",
      "sliced fun data shape (369, 8)\n",
      "sliced eth data shape (441, 16)\n",
      "sliced gno data shape (441, 8)\n",
      "sliced eth data shape (595, 16)\n",
      "sliced gnt data shape (595, 8)\n",
      "sliced eth data shape (119, 16)\n",
      "sliced loom data shape (119, 8)\n",
      "sliced eth data shape (367, 16)\n",
      "sliced omg data shape (367, 8)\n",
      "sliced eth data shape (346, 16)\n",
      "sliced rep data shape (346, 8)\n",
      "sliced eth data shape (292, 16)\n",
      "sliced salt data shape (292, 8)\n",
      "sliced eth data shape (384, 16)\n",
      "sliced snt data shape (384, 8)\n",
      "sliced eth data shape (336, 16)\n",
      "sliced zrx data shape (336, 8)\n",
      "ae NaN Cells: 0\n",
      "bat NaN Cells: 0\n",
      "fun NaN Cells: 0\n",
      "gno NaN Cells: 0\n",
      "gnt NaN Cells: 0\n",
      "loom NaN Cells: 0\n",
      "omg NaN Cells: 0\n",
      "rep NaN Cells: 0\n",
      "salt NaN Cells: 0\n",
      "snt NaN Cells: 0\n",
      "zrx NaN Cells: 0\n",
      "ae outperformed ETH on 145 / 312 days\n",
      "46.47435897435898 % of the time\n",
      "bat outperformed ETH on 190 / 411 days\n",
      "46.228710462287104 % of the time\n",
      "fun outperformed ETH on 160 / 368 days\n",
      "43.47826086956522 % of the time\n",
      "gno outperformed ETH on 183 / 441 days\n",
      "41.49659863945578 % of the time\n",
      "gnt outperformed ETH on 257 / 595 days\n",
      "43.19327731092437 % of the time\n",
      "loom outperformed ETH on 53 / 119 days\n",
      "44.537815126050425 % of the time\n",
      "omg outperformed ETH on 161 / 367 days\n",
      "43.869209809264305 % of the time\n",
      "rep outperformed ETH on 155 / 346 days\n",
      "44.797687861271676 % of the time\n",
      "salt outperformed ETH on 120 / 292 days\n",
      "41.0958904109589 % of the time\n",
      "snt outperformed ETH on 158 / 384 days\n",
      "41.14583333333333 % of the time\n",
      "zrx outperformed ETH on 152 / 336 days\n",
      "45.23809523809524 % of the time\n"
     ]
    }
   ],
   "source": [
    "data = preprocessing.DataProcessing()\n",
    "data.build_datasets()"
   ]
  },
  {
   "cell_type": "code",
   "execution_count": 92,
   "metadata": {},
   "outputs": [],
   "source": [
    "X_train, X_test, y_train, y_test = train_test_split(data.normalized_data['ae']['features'], data.normalized_data['ae']['targets'], test_size=0.33, random_state=42)\n"
   ]
  },
  {
   "cell_type": "code",
   "execution_count": 93,
   "metadata": {},
   "outputs": [
    {
     "data": {
      "text/plain": [
       "XGBClassifier(base_score=0.5, booster='gbtree', colsample_bylevel=1,\n",
       "       colsample_bytree=1, gamma=0, learning_rate=0.1, max_delta_step=0,\n",
       "       max_depth=3, min_child_weight=1, missing=None, n_estimators=100,\n",
       "       n_jobs=1, nthread=None, objective='binary:logistic', random_state=0,\n",
       "       reg_alpha=0, reg_lambda=1, scale_pos_weight=1, seed=None,\n",
       "       silent=True, subsample=1)"
      ]
     },
     "execution_count": 93,
     "metadata": {},
     "output_type": "execute_result"
    }
   ],
   "source": [
    "model = XGBClassifier()\n",
    "model.fit(X_train, y_train)"
   ]
  },
  {
   "cell_type": "code",
   "execution_count": 94,
   "metadata": {},
   "outputs": [
    {
     "name": "stdout",
     "output_type": "stream",
     "text": [
      "Accuracy: 59.22%\n"
     ]
    }
   ],
   "source": [
    "y_pred = model.predict(X_test)\n",
    "predictions = [round(value) for value in y_pred]\n",
    "# evaluate predictions\n",
    "accuracy = accuracy_score(y_test, predictions)\n",
    "print(\"Accuracy: %.2f%%\" % (accuracy * 100.0))"
   ]
  },
  {
   "cell_type": "code",
   "execution_count": 109,
   "metadata": {},
   "outputs": [
    {
     "name": "stdout",
     "output_type": "stream",
     "text": [
      "Fitting 3 folds for each of 70 candidates, totalling 210 fits\n"
     ]
    },
    {
     "name": "stderr",
     "output_type": "stream",
     "text": [
      "[Parallel(n_jobs=1)]: Done 210 out of 210 | elapsed:  1.8min finished\n"
     ]
    },
    {
     "name": "stdout",
     "output_type": "stream",
     "text": [
      "0.5990338164251208\n",
      "{'max_depth': 3, 'booster': 'dart', 'n_estimators': 600}\n"
     ]
    }
   ],
   "source": [
    "from sklearn.grid_search import GridSearchCV\n",
    "\n",
    "xgb_model = xgb.XGBClassifier()\n",
    "optimization_dict = {'max_depth': [3,4,5,6,10],\n",
    "                     'n_estimators': [100,300,400,500,600,700,1000],\n",
    "                     'booster' : ['gblinear', 'dart']}\n",
    "\n",
    "model = GridSearchCV(xgb_model, optimization_dict, \n",
    "                     scoring='accuracy', verbose=1)\n",
    "\n",
    "model.fit(X_train, y_train)\n",
    "\n",
    "print(model.best_score_)\n",
    "print(model.best_params_)\n"
   ]
  },
  {
   "cell_type": "code",
   "execution_count": 114,
   "metadata": {},
   "outputs": [
    {
     "data": {
      "text/plain": [
       "array([[0.9892179 , 0.01078215],\n",
       "       [0.9554256 , 0.0445744 ],\n",
       "       [0.719809  , 0.280191  ],\n",
       "       [0.24215877, 0.7578412 ],\n",
       "       [0.21857226, 0.78142774],\n",
       "       [0.6925255 , 0.3074745 ],\n",
       "       [0.8802571 , 0.11974289],\n",
       "       [0.6685184 , 0.3314816 ],\n",
       "       [0.54732335, 0.45267668],\n",
       "       [0.13659722, 0.8634028 ],\n",
       "       [0.0819844 , 0.9180156 ],\n",
       "       [0.8846132 , 0.11538678],\n",
       "       [0.685477  , 0.31452295],\n",
       "       [0.24177426, 0.75822574],\n",
       "       [0.9071406 , 0.09285941],\n",
       "       [0.9938654 , 0.00613463],\n",
       "       [0.03817803, 0.961822  ],\n",
       "       [0.80593884, 0.19406116],\n",
       "       [0.7472499 , 0.2527501 ],\n",
       "       [0.9732268 , 0.02677323],\n",
       "       [0.5982121 , 0.4017879 ],\n",
       "       [0.15274972, 0.8472503 ],\n",
       "       [0.07625276, 0.92374724],\n",
       "       [0.95531124, 0.04468877],\n",
       "       [0.04267263, 0.95732737],\n",
       "       [0.45114696, 0.54885304],\n",
       "       [0.00456554, 0.99543446],\n",
       "       [0.26057047, 0.73942953],\n",
       "       [0.9155798 , 0.08442017],\n",
       "       [0.88736874, 0.11263126],\n",
       "       [0.05117202, 0.948828  ],\n",
       "       [0.9408133 , 0.05918668],\n",
       "       [0.97105694, 0.02894307],\n",
       "       [0.29570818, 0.7042918 ],\n",
       "       [0.5075517 , 0.49244827],\n",
       "       [0.77834   , 0.22166002],\n",
       "       [0.7531831 , 0.24681686],\n",
       "       [0.5136305 , 0.4863695 ],\n",
       "       [0.06305909, 0.9369409 ],\n",
       "       [0.88495344, 0.11504656],\n",
       "       [0.26883   , 0.73117   ],\n",
       "       [0.32839447, 0.6716055 ],\n",
       "       [0.5812017 , 0.4187983 ],\n",
       "       [0.9727876 , 0.02721239],\n",
       "       [0.03424811, 0.9657519 ],\n",
       "       [0.47250456, 0.52749544],\n",
       "       [0.5401928 , 0.45980722],\n",
       "       [0.45353335, 0.54646665],\n",
       "       [0.95979047, 0.04020953],\n",
       "       [0.29253322, 0.7074668 ],\n",
       "       [0.97873646, 0.02126357],\n",
       "       [0.97278756, 0.02721246],\n",
       "       [0.99363303, 0.00636695],\n",
       "       [0.5511775 , 0.44882247],\n",
       "       [0.69997   , 0.30002996],\n",
       "       [0.05015022, 0.9498498 ],\n",
       "       [0.86901504, 0.13098495],\n",
       "       [0.01044255, 0.98955745],\n",
       "       [0.59240603, 0.40759397],\n",
       "       [0.09013289, 0.9098671 ],\n",
       "       [0.1721251 , 0.8278749 ],\n",
       "       [0.7041644 , 0.29583558],\n",
       "       [0.9930438 , 0.00695624],\n",
       "       [0.05542833, 0.9445717 ],\n",
       "       [0.8489505 , 0.15104948],\n",
       "       [0.8319883 , 0.16801172],\n",
       "       [0.9479399 , 0.05206012],\n",
       "       [0.17918241, 0.8208176 ],\n",
       "       [0.51996994, 0.48003006],\n",
       "       [0.06648064, 0.93351936],\n",
       "       [0.9780568 , 0.02194324],\n",
       "       [0.9364771 , 0.0635229 ],\n",
       "       [0.8407904 , 0.15920958],\n",
       "       [0.41990727, 0.5800927 ],\n",
       "       [0.13302088, 0.8669791 ],\n",
       "       [0.8036692 , 0.19633082],\n",
       "       [0.1572411 , 0.8427589 ],\n",
       "       [0.5517084 , 0.4482916 ],\n",
       "       [0.94221234, 0.05778763],\n",
       "       [0.9381005 , 0.06189951],\n",
       "       [0.988986  , 0.01101397],\n",
       "       [0.2911951 , 0.7088049 ],\n",
       "       [0.99064004, 0.00935993],\n",
       "       [0.98859364, 0.01140637],\n",
       "       [0.3467521 , 0.6532479 ],\n",
       "       [0.9471404 , 0.05285962],\n",
       "       [0.25836384, 0.74163616],\n",
       "       [0.04041475, 0.95958525],\n",
       "       [0.10855138, 0.8914486 ],\n",
       "       [0.5108949 , 0.48910508],\n",
       "       [0.5632247 , 0.43677536],\n",
       "       [0.7175671 , 0.2824329 ],\n",
       "       [0.3770888 , 0.6229112 ],\n",
       "       [0.07592332, 0.9240767 ],\n",
       "       [0.997265  , 0.00273503],\n",
       "       [0.10905659, 0.8909434 ],\n",
       "       [0.61848855, 0.38151145],\n",
       "       [0.63517153, 0.36482844],\n",
       "       [0.7881598 , 0.21184021],\n",
       "       [0.63492966, 0.36507034],\n",
       "       [0.16383666, 0.83616334],\n",
       "       [0.03439772, 0.9656023 ],\n",
       "       [0.8116206 , 0.18837942]], dtype=float32)"
      ]
     },
     "execution_count": 114,
     "metadata": {},
     "output_type": "execute_result"
    }
   ],
   "source": [
    "model.predict_proba(X_test) "
   ]
  },
  {
   "cell_type": "code",
   "execution_count": 115,
   "metadata": {},
   "outputs": [
    {
     "data": {
      "text/plain": [
       "array([0., 0., 0., 1., 1., 0., 0., 0., 0., 1., 1., 0., 0., 1., 0., 0., 1.,\n",
       "       0., 0., 0., 0., 1., 1., 0., 1., 1., 1., 1., 0., 0., 1., 0., 0., 1.,\n",
       "       0., 0., 0., 0., 1., 0., 1., 1., 0., 0., 1., 1., 0., 1., 0., 1., 0.,\n",
       "       0., 0., 0., 0., 1., 0., 1., 0., 1., 1., 0., 0., 1., 0., 0., 0., 1.,\n",
       "       0., 1., 0., 0., 0., 1., 1., 0., 1., 0., 0., 0., 0., 1., 0., 0., 1.,\n",
       "       0., 1., 1., 1., 0., 0., 0., 1., 1., 0., 1., 0., 0., 0., 0., 1., 1.,\n",
       "       0.])"
      ]
     },
     "execution_count": 115,
     "metadata": {},
     "output_type": "execute_result"
    }
   ],
   "source": [
    "model.predict(X_test)"
   ]
  },
  {
   "cell_type": "code",
   "execution_count": null,
   "metadata": {},
   "outputs": [],
   "source": []
  },
  {
   "cell_type": "code",
   "execution_count": null,
   "metadata": {},
   "outputs": [],
   "source": []
  },
  {
   "cell_type": "code",
   "execution_count": null,
   "metadata": {},
   "outputs": [],
   "source": []
  },
  {
   "cell_type": "code",
   "execution_count": null,
   "metadata": {},
   "outputs": [],
   "source": []
  }
 ],
 "metadata": {
  "kernelspec": {
   "display_name": "Python 3",
   "language": "python",
   "name": "python3"
  },
  "language_info": {
   "codemirror_mode": {
    "name": "ipython",
    "version": 3
   },
   "file_extension": ".py",
   "mimetype": "text/x-python",
   "name": "python",
   "nbconvert_exporter": "python",
   "pygments_lexer": "ipython3",
   "version": "3.5.3"
  }
 },
 "nbformat": 4,
 "nbformat_minor": 2
}
