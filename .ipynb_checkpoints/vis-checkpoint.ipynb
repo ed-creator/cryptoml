{
 "cells": [
  {
   "cell_type": "code",
   "execution_count": 48,
   "metadata": {},
   "outputs": [],
   "source": [
    "import seaborn as sns; sns.set()\n",
    "import numpy as np"
   ]
  },
  {
   "cell_type": "code",
   "execution_count": 49,
   "metadata": {},
   "outputs": [],
   "source": [
    "def sns_labels_heatmap(dataframe):\n",
    "    fig =  sns.heatmap(dataframe.set_index('date'),cbar=False, vmin=0, vmax=1)\n",
    "    fig.figure"
   ]
  },
  {
   "cell_type": "code",
   "execution_count": 81,
   "metadata": {},
   "outputs": [],
   "source": [
    "import plotly.plotly as py\n",
    "import plotly.graph_objs as go\n",
    "# plotly.tools.set_credentials_file(username='edwardwardward', api_key='w4u6ISi3YOwU44HxC5O8')\n",
    "\n",
    "def sub_name(name):\n",
    "    name = name.replace('next_day_performance_vs_eth_','')\n",
    "    return name\n",
    "    \n",
    "def plotly_labels_heatmap(dataframe):\n",
    "    \n",
    "    data=dataframe.drop(['date',\"sum\"], axis=1).values.tolist()\n",
    "    erc20_names = list(map(sub_name, dataframe.drop(['date','sum'], axis=1).columns.values))\n",
    "    print(erc20_names)\n",
    "    x = [go.Heatmap( z=data,y=dataframe['date'], x=erc20_names, colorscale='Viridis')]\n",
    "\n",
    "    return py.iplot(x)\n",
    "\n",
    "\n"
   ]
  },
  {
   "cell_type": "code",
   "execution_count": 78,
   "metadata": {},
   "outputs": [
    {
     "data": {
      "text/plain": [
       "'_bat'"
      ]
     },
     "execution_count": 78,
     "metadata": {},
     "output_type": "execute_result"
    }
   ],
   "source": [
    "sub_name('next_day_performance_vs_eth_bat')"
   ]
  },
  {
   "cell_type": "code",
   "execution_count": 79,
   "metadata": {},
   "outputs": [],
   "source": [
    "p = ['next_day_performance_vs_eth','next_day_performance_vs_eth_bat','next_day_performance_vs_eth_loom','next_day_performance_vs_eth_ltc']"
   ]
  },
  {
   "cell_type": "code",
   "execution_count": 80,
   "metadata": {},
   "outputs": [
    {
     "data": {
      "text/plain": [
       "['next_day_performance_vs_eth',\n",
       " 'next_day_performance_vs_eth_bat',\n",
       " 'next_day_performance_vs_eth_loom',\n",
       " 'next_day_performance_vs_eth_ltc']"
      ]
     },
     "execution_count": 80,
     "metadata": {},
     "output_type": "execute_result"
    }
   ],
   "source": [
    "p"
   ]
  },
  {
   "cell_type": "code",
   "execution_count": 76,
   "metadata": {},
   "outputs": [],
   "source": [
    "q =list(map(sub_name,p))"
   ]
  },
  {
   "cell_type": "code",
   "execution_count": 75,
   "metadata": {},
   "outputs": [
    {
     "data": {
      "text/plain": [
       "['', '_bat', '_loom', '_ltc']"
      ]
     },
     "execution_count": 75,
     "metadata": {},
     "output_type": "execute_result"
    }
   ],
   "source": [
    "list(q)"
   ]
  },
  {
   "cell_type": "code",
   "execution_count": 74,
   "metadata": {},
   "outputs": [
    {
     "name": "stdout",
     "output_type": "stream",
     "text": [
      "<map object at 0x7fa41602f828>\n"
     ]
    }
   ],
   "source": [
    "print (q)"
   ]
  },
  {
   "cell_type": "code",
   "execution_count": null,
   "metadata": {},
   "outputs": [],
   "source": []
  }
 ],
 "metadata": {
  "kernelspec": {
   "display_name": "Python 3",
   "language": "python",
   "name": "python3"
  },
  "language_info": {
   "codemirror_mode": {
    "name": "ipython",
    "version": 3
   },
   "file_extension": ".py",
   "mimetype": "text/x-python",
   "name": "python",
   "nbconvert_exporter": "python",
   "pygments_lexer": "ipython3",
   "version": "3.5.3"
  }
 },
 "nbformat": 4,
 "nbformat_minor": 2
}
